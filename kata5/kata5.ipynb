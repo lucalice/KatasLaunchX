{
 "cells": [
  {
   "cell_type": "markdown",
   "metadata": {},
   "source": [
    "Operadores Aritméticos"
   ]
  },
  {
   "cell_type": "code",
   "execution_count": 2,
   "metadata": {},
   "outputs": [
    {
     "name": "stdout",
     "output_type": "stream",
     "text": [
      "149597870\n"
     ]
    }
   ],
   "source": [
    "distancia_tierra = 149597870\n",
    "distancia_jupiter = 778547200\n",
    "\n",
    "distancia_entre_planetas = distancia_tierra - distancia_jupiter\n",
    "print(distancia_entre_planetas)\n",
    "\n",
    "distancia_millas = distancia_entre_planetas * 0.621\n",
    "print(distancia_millas)\n",
    "\n"
   ]
  },
  {
   "cell_type": "markdown",
   "metadata": {},
   "source": [
    "Ejercicio 2"
   ]
  },
  {
   "cell_type": "code",
   "execution_count": 4,
   "metadata": {},
   "outputs": [
    {
     "name": "stdout",
     "output_type": "stream",
     "text": [
      "62.1 millas\n"
     ]
    }
   ],
   "source": [
    "dis_planeta1 = int(input(\"Introduzca la distancia entre el sol y el primer planeta en kilómetos: \\n\"))\n",
    "dis_planeta2 = int(input(\"Introduzca la distancia entre el sol y el segundo planeta en kilómetros: \\n\"))\n",
    "\n",
    "distancia_kilo = dis_planeta2 - dis_planeta1\n",
    "distancia_milla = distancia_kilo * 0.621\n",
    "print(abs(distancia_milla), \"millas\")"
   ]
  }
 ],
 "metadata": {
  "interpreter": {
   "hash": "aee8b7b246df8f9039afb4144a1f6fd8d2ca17a180786b69acc140d282b71a49"
  },
  "kernelspec": {
   "display_name": "Python 3.10.2 64-bit",
   "language": "python",
   "name": "python3"
  },
  "language_info": {
   "codemirror_mode": {
    "name": "ipython",
    "version": 3
   },
   "file_extension": ".py",
   "mimetype": "text/x-python",
   "name": "python",
   "nbconvert_exporter": "python",
   "pygments_lexer": "ipython3",
   "version": "3.10.2"
  },
  "orig_nbformat": 4
 },
 "nbformat": 4,
 "nbformat_minor": 2
}
