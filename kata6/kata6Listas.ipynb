{
 "cells": [
  {
   "cell_type": "markdown",
   "metadata": {},
   "source": [
    "Ejercicio 1"
   ]
  },
  {
   "cell_type": "code",
   "execution_count": 10,
   "metadata": {},
   "outputs": [
    {
     "name": "stdout",
     "output_type": "stream",
     "text": [
      "['Mercurio', 'Venus', 'Tierra', 'Marte', 'Júpiter', 'Saturno', 'Urano']\n",
      "Plutón\n",
      "Si está ese planeta en la lista!!!\n",
      "Los planetas más cercanos al sol son: \n",
      "['Mercurio']\n",
      "Los planetas más lejanos al sol son: \n",
      "['Tierra', 'Marte', 'Júpiter', 'Saturno', 'Urano', 'Plutón']\n"
     ]
    }
   ],
   "source": [
    "planets = [\"Mercurio\", \"Venus\", \"Tierra\", \"Marte\", \"Júpiter\", \"Saturno\", \"Urano\"]\n",
    "print(planets)\n",
    "\n",
    "planets.append(\"Plutón\")\n",
    "print(planets[-1])\n",
    "\n",
    "nombrePlaneta = input(\"Ingrese el nombre de un planeta: \\n\")\n",
    "if nombrePlaneta in planets:\n",
    "    print(\"Si está ese planeta en la lista!!!\")\n",
    "    \n",
    "indice = planets.index(nombrePlaneta)\n",
    "\n",
    "print(\"Los planetas más cercanos al sol son: \")\n",
    "print(planets[0:indice])\n",
    "\n",
    "\n",
    "print(\"Los planetas más lejanos al sol son: \")\n",
    "print(planets[indice + 1:])\n",
    "\n"
   ]
  }
 ],
 "metadata": {
  "interpreter": {
   "hash": "aee8b7b246df8f9039afb4144a1f6fd8d2ca17a180786b69acc140d282b71a49"
  },
  "kernelspec": {
   "display_name": "Python 3.10.2 64-bit",
   "language": "python",
   "name": "python3"
  },
  "language_info": {
   "codemirror_mode": {
    "name": "ipython",
    "version": 3
   },
   "file_extension": ".py",
   "mimetype": "text/x-python",
   "name": "python",
   "nbconvert_exporter": "python",
   "pygments_lexer": "ipython3",
   "version": "3.10.2"
  },
  "orig_nbformat": 4
 },
 "nbformat": 4,
 "nbformat_minor": 2
}
